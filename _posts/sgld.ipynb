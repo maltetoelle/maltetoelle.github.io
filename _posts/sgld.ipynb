{
 "cells": [
  {
   "cell_type": "markdown",
   "metadata": {},
   "source": [
    "---\n",
    "header-includes:\n",
    "  - \\usepackage{algorithm2e}\n",
    "---\n",
    "\n",
    "# Stochastic Descent Langevin Dynamics (SGLD)\n",
    "\n",
    "In the domain of learning from data $\\mathcal{D}$ we generally distinguish between the frequentist and the Bayesian approach. Whilst the frequentist approach assumes one true solution for the model parameters $\\boldsymbol{\\theta}$ for the problem at hand, being Bayesian models the parameters with a distribution and by this takes uncertainties into account. With the Bayesian approach we can express our knowledge about the model parameters prior of seeing any data. We can also express zero prior knowledge by using a uniform distribution assigning each parameter value the same probability. The more data the model sees, the more certain it is in its parameters, converging to the frequentist estimate when much data is observed.\n",
    "\n",
    "In the frequentist approach, also called Maximum Likelihood Estimation (MLE), each individual data point of $\\mathcal{D}=\\{\\mathbf{x}_i,y_i\\}$ with $N$ data points is modeled with a Gaussian distribution:\n",
    "\n",
    "$$p(\\mathbf{y}_i|\\mathbf{x}_i, \\boldsymbol{\\theta}) = \\frac{1}{\\sigma\\sqrt{2\\pi}}\\exp \\left\\{-\\frac{1}{2\\sigma^2}(y_i -\\boldsymbol{\\theta}^T\\mathbf{x}_i)^2 \\right\\}$$ ,\n",
    "\n",
    "where $\\boldsymbol{\\theta}$ denotes the model parameters. We are assuming a multidimensional output, but only a one-dimensional output for simplicity, though it actually can be of arbitrary dimension. Under the assumption of independent and identically distributed (i.i.d.) data, the probability for all data points factorizes (called the likelihood function):\n",
    "\n",
    "$$p(\\mathbf{y}|\\mathbf{X},\\boldsymbol{\\theta}) = \\prod_{i=1}^{N} p(\\mathbf{y}_i|\\mathbf{x}_i, \\boldsymbol{\\theta})$$ ,\n",
    "\n",
    "where $\\mathbf{X}$ denotes the matrix of all data points with each data point $\\mathbf{x}_i$ as a row vector."
   ]
  },
  {
   "cell_type": "markdown",
   "metadata": {},
   "source": [
    "## Markov Chain Monte Carlo Sampling\n",
    "\n",
    "*A great deal of the following explanations is inspired by the <a href=\"https://escholarship.org/content/qt4k8039zm/qt4k8039zm.pdf\">PhD thesis from Sungjin Ahn</a>.*\n",
    "\n",
    "Evaluating the posterior becomes intractable even for small models that are non-linear. We reviewed two popular techniques for the simple exmaple of linear regression <a href=\"\">here</a>, variational inference and Markov chain Monte Carlo (MCMC) sampling. As a quick recap, as the name implies MCMC methods combine Markov chains with Monte Carlo (MC) methods. A Markov chain is used to sample from a distribution of interest (e.g. our intractable posterior), and then by employing MC methods we can approximate the expectation whose exact solution is again to expensive to compute. MCMC methods make no assumption about the form of our posterior e.g. as to wether it can be approximated with a multivariate Gaussian. They only assume the posterior $p(\\boldsymbol{\\theta}|\\mathcal{D})$ can be calculated up to normalization constant $Z$ meaning $p(\\boldsymbol{\\theta}|\\mathcal{D})=\\tilde{p}(\\boldsymbol{\\theta}|\\mathcal{D})/Z$, where $Z$ denotes the evidence in our case (<a href=\"http://users.isr.ist.utl.pt/~wurmd/Livros/school/Bishop%20-%20Pattern%20Recognition%20And%20Machine%20Learning%20-%20Springer%20%202006.pdf\">Bishop 2006</a>).\n",
    "\n",
    "### Monte Carlo Integration\n",
    "\n",
    "In machine learning we are often interested in computing an expectation of a function $\\mathbb{E}\\left[\\mathbf{f}_{\\boldsymbol{\\theta}}\\right]$ w.r.t. a distribution of the model parameters $p(\\boldsymbol{\\theta})$. In our case the distribution is defined by the posterior of our parameters $p(\\boldsymbol{\\theta}|\\mathcal{D})$. Computing the expectation involves computing an integral, but we use Monte Carlo integration to approximate that integral by sampling from our posterior:\n",
    "\n",
    "$$\n",
    "\\begin{aligned}\n",
    "\\mathbb{E}(\\mathbf{f}) &= \\int \\mathbf{f}_{\\boldsymbol{\\theta}}(\\mathbf{x}_*)p(\\boldsymbol{\\theta}|\\boldsymbol{\\Phi},\\mathbf{y})d\\boldsymbol{\\theta} \\\\\n",
    "&\\approx \\frac{1}{M} \\sum_{i=1}^M \\mathbf{f}_{\\boldsymbol{\\theta}_i}(\\mathbf{x}_*) \\quad \\textrm{where} \\quad \\boldsymbol{\\theta}_i \\sim p(\\boldsymbol{\\theta}|\\mathcal{D}) ~.\n",
    "\\end{aligned}\n",
    "$$\n",
    "\n",
    "The MC estimator is unbiased and consistent because by the <a href=\"https://en.wikipedia.org/wiki/Law_of_large_numbers#:~:text=Strong%20law,-The%20strong%20law&text=What%20this%20means%20is%20that,that%20of%20the%20weak%20law.\">strong law of large numbers</a> it almost surely converges to the true value as the number of samples increases. Also, by the <a href=\"https://en.wikipedia.org/wiki/Central_limit_theorem\">central limit theorem</a>, the variance of the MC estimator is \n",
    "\n",
    "$$\\mathrm{Var}\\left[\\mathbf{f}\\right] = \\frac{\\mathrm{Var}\\left[\\mathbf{f}_{\\boldsymbol{\\theta}_i}\\right]}{M}~.$$\n",
    "\n",
    "Thus, the more samples we analyse, the better our accuracy becomes, if the generated samples from the posterior $\\boldsymbol{\\theta}_i$ are independent. For complicated posterior distributions this is mostly impossible, but it still gives an unbiased estimate, if the number of generated samples is high enough (<a href=\"https://citeseerx.ist.psu.edu/viewdoc/download?doi=10.1.1.446.9306&rep=rep1&type=pdf\">Neal 1996</a>). The question remains of how to draw samples from our target distribution\n",
    "\n",
    "### Markov Chains\n",
    "\n",
    "To generate a set of dependent weights $\\boldsymbol{\\theta}_i$ a Markov chain can be utilized that has\n",
    "the posterior $p(\\boldsymbol{\\theta}|\\boldsymbol{\\Phi},\\mathbf{y})$ as its equilibrium distribution. Markov Chains are a sequence of events, where the probability of one event depends only on the state of the previous one. So, one\n",
    "samples from a proposal distribution $q(\\boldsymbol{\\theta}|\\boldsymbol{\\theta}_i)$ and maintains a record of the current state $\\boldsymbol{\\theta}_i$. A Markov chain is defined by giving an initial distribution for the\n",
    "first state of the chain $\\boldsymbol{\\theta}_1$ and a transition distribution for a new state $\\boldsymbol{\\theta}_{i+1}$ following from the current state $\\boldsymbol{\\theta}_i$. A stationary distribution q is established if the distribution\n",
    "given by state $\\boldsymbol{\\theta}_{i+1}$ is the same as with state $\\boldsymbol{\\theta}_i$. If the drawn samples are dependent then early drawn samples need to be discarded, since they usually are not representatives\n",
    "of the equilibrium distribution referred to as burn in phase. If the samples are dependent\n",
    "the chain also needs much longer to reach its equilibrium distribution (<a href=\"https://citeseerx.ist.psu.edu/viewdoc/download?doi=10.1.1.446.9306&rep=rep1&type=pdf\">Neal 1996</a>).\n",
    "\n",
    "A popular algorithm for MCMC sampling is Metropolis-Hastings (<a href=\"https://bayes.wustl.edu/Manual/EquationOfState.pdf\">Metropolis et al. 1953</a>, <a href=\"https://academic.oup.com/biomet/article-abstract/57/1/97/284580?redirectedFrom=fulltext\">Hastings 1970</a>). The acceptance probability Ai at time step i is given by\n",
    "\n",
    "$$A_i(\\boldsymbol{\\theta}_*,\\boldsymbol{\\theta}_i) = \\textrm{min} \\left( 1, \\frac{q(\\boldsymbol{\\theta}_i|\\boldsymbol{\\theta}_*)\\tilde{p}(\\boldsymbol{\\theta}_*)}{q(\\boldsymbol{\\theta}_*|\\boldsymbol{\\theta}_i)\\tilde{p}(\\boldsymbol{\\theta}_i)}  \\right) ~,$$\n",
    "\n",
    "where $\\boldsymbol{\\theta}_i$ denotes the current state and $\\boldsymbol{\\theta}_*$ the drawn proposal state, $\\tilde{p}(\\boldsymbol{\\theta})$ is the prior of the model parameters. The normalization constants cancel out each other. After the acceptance probability is calculated, a random number $r$ is drawn from a Uniform distribution $r \\sim \\mathcal{U}(0,1)$. If $A_i > r$ the proposal state is accepted. \n",
    "\n",
    "\\begin{algorithm}\n",
    "\\SetAlgoLined\n",
    "\\KwResult{Write here the result }\n",
    " initialization\\;\n",
    " \\While{While condition}{\n",
    "  instructions\\;\n",
    "  \\eIf{condition}{\n",
    "   instructions1\\;\n",
    "   instructions2\\;\n",
    "   }{\n",
    "   instructions3\\;\n",
    "  }\n",
    " }\n",
    " \\caption{How to write algorithms}\n",
    "\\end{algorithm}"
   ]
  },
  {
   "cell_type": "code",
   "execution_count": 1,
   "metadata": {},
   "outputs": [
    {
     "data": {
      "image/png": "[encoded data removed]",
      "text/plain": [
       "<Figure size 432x288 with 1 Axes>"
      ]
     },
     "metadata": {},
     "output_type": "display_data"
    }
   ],
   "source": [
    "import matplotlib\n",
    "%matplotlib inline\n",
    "import matplotlib.pyplot as plt\n",
    "import numpy as np\n",
    "import seaborn as sns\n",
    "sns.set()\n",
    "import torch\n",
    "\n",
    "dtype = torch.cuda.FloatTensor if torch.cuda.is_available() else torch.FloatTensor\n",
    "\n",
    "matplotlib.rcParams['text.usetex'] = True\n",
    "matplotlib.rcParams['text.latex.preamble'] = r'\\usepackage{bm}'\n",
    "\n",
    "def f(x: torch.Tensor, sigma: float) -> torch.Tensor:\n",
    "    epsilon = torch.randn(*x.shape) * sigma\n",
    "    return 10 * torch.sin(2 * np.pi * (x)) + epsilon.to(x.device)\n",
    "\n",
    "train_size = 96\n",
    "sigma = 2.0\n",
    "\n",
    "x = torch.linspace(-0.5, 0.5, train_size).reshape(-1, 1).type(dtype)\n",
    "y = f(x, sigma=sigma).type(dtype)\n",
    "y_true = f(x, sigma=0.0)\n",
    "\n",
    "plt.scatter(x.cpu(), y.cpu(), color='black', label='Training data')\n",
    "plt.plot(x.cpu(), y_true.cpu(), label='True', color='r', linestyle='--')\n",
    "plt.legend()\n",
    "plt.show()"
   ]
  },
  {
   "cell_type": "code",
   "execution_count": 2,
   "metadata": {},
   "outputs": [],
   "source": [
    "import torch.nn as nn\n",
    "import torch.nn.functional as F\n",
    "\n",
    "class Model(nn.Module):\n",
    "    \n",
    "    def __init__(self, in_features: int = 1, out_features: int = 1):\n",
    "        super(Model, self).__init__()\n",
    "        \n",
    "        self.layer1 = nn.Linear(in_features, 20)\n",
    "        self.layer2 = nn.Linear(20, 20)\n",
    "        self.layer3 = nn.Linear(20, out_features)\n",
    "    \n",
    "    def forward(self, x: torch.Tensor) -> (torch.Tensor):\n",
    "        x = F.relu(self.layer1(x))\n",
    "        x = F.relu(self.layer2(x))\n",
    "        x = self.layer3(x)\n",
    "        return x"
   ]
  },
  {
   "cell_type": "code",
   "execution_count": 3,
   "metadata": {},
   "outputs": [],
   "source": [
    "from typing import Generator\n",
    "from torch.optim import Optimizer\n",
    "\n",
    "class SGLD(Optimizer):\n",
    "\n",
    "    def __init__(self, params: Generator[torch.Tensor, None, None], lr: float, weight_decay: float = 0., \n",
    "                 glr: str = 'var'):\n",
    "\n",
    "        if weight_decay < 0.0:\n",
    "            raise ValueError(\"Invalid weight_decay value: {}\".format(weight_decay))\n",
    "        if lr < 0.0:\n",
    "            raise ValueError(\"Invalid learning rate: {}\".format(lr))\n",
    "\n",
    "        defaults = dict(lr=lr, weight_decay=weight_decay)\n",
    "        self.glr = glr\n",
    "\n",
    "        super(SGLD, self).__init__(params, defaults)\n",
    "\n",
    "    def step(self) -> torch.Tensor:\n",
    "\n",
    "        loss = None\n",
    "\n",
    "        for group in self.param_groups:\n",
    "\n",
    "            weight_decay = group['weight_decay']\n",
    "\n",
    "            for p in group['params']:\n",
    "                if p.grad is None:\n",
    "                    continue\n",
    "                d_p = p.grad.data\n",
    "                if weight_decay != 0:\n",
    "                    d_p += weight_decay * p.data\n",
    "                \n",
    "                langevin_noise = torch.empty(p.data.size()).normal_().to(d_p.device)\n",
    "                if self.glr == 'var':\n",
    "                    p.data += -group['lr'] * 0.5 * d_p + np.sqrt(group['lr']) * langevin_noise\n",
    "                else:\n",
    "                    p.data += -group['lr'] * 0.5 * d_p + group['lr'] * langevin_noise\n",
    "\n",
    "        return loss"
   ]
  },
  {
   "cell_type": "code",
   "execution_count": 4,
   "metadata": {},
   "outputs": [],
   "source": [
    "def gaussian_nll(mu: torch.Tensor, logvar: torch.Tensor, target: torch.Tensor, \n",
    "                 reduction: str = 'mean') -> torch.Tensor:\n",
    "    loss = torch.exp(-logvar) * torch.pow(target - mu, 2) + logvar\n",
    "    return loss.mean() if reduction=='mean' else loss.sum()\n",
    "\n",
    "def calc_uncert(preds: [torch.Tensor], reduction: str = 'mean') -> (torch.Tensor, torch.Tensor, torch.Tensor):\n",
    "    preds = torch.cat(preds, dim=0)\n",
    "    epi = torch.var(preds[:,:,0], dim=0)\n",
    "    ale = torch.mean(preds[:,:,1], dim=0)#.exp()\n",
    "    uncert = ale + epi\n",
    "    if reduction == 'mean':\n",
    "        return ale.mean(), epi.mean(), uncert.mean()\n",
    "    else:\n",
    "        return ale, epi, uncert"
   ]
  },
  {
   "cell_type": "code",
   "execution_count": 5,
   "metadata": {},
   "outputs": [],
   "source": [
    "from typing import Callable\n",
    "from copy import deepcopy\n",
    "from tqdm import tqdm\n",
    "from scipy.ndimage import gaussian_filter1d\n",
    "from torch.optim import lr_scheduler, Adam\n",
    "\n",
    "def train(model: nn.Module, loss_fct: Callable, x: torch.Tensor, y: torch.Tensor, \n",
    "          batch_size: int = 1, optim: Optimizer = SGLD, burnin_iter: int = 0, mcmc_iter: int = 50, glr: str = 'var',\n",
    "          weight_decay: float = 0., lr: float = 1e-3, num_epochs: int = 1000, gamma: float = 0.996) -> (list):\n",
    "\n",
    "    losses, models = [], []\n",
    "    \n",
    "    optim = optim(model.parameters(), lr=lr, weight_decay=weight_decay, glr=glr)\n",
    "    lr_sched = lr_scheduler.ExponentialLR(optim, gamma)\n",
    "    m = int(len(x)/batch_size)\n",
    "    pbar = tqdm(range(num_epochs))\n",
    "    for epoch in pbar:\n",
    "        idx = torch.randperm(len(x))\n",
    "        total_loss, total_kl = 0, 0\n",
    "        for batch_idx in range(1, m+1):\n",
    "            optim.zero_grad()\n",
    "            \n",
    "            out = model(x[idx[(batch_idx-1) * batch_size : batch_idx * batch_size]])\n",
    "\n",
    "            loss = loss_fct(out, y[idx[(batch_idx-1) * batch_size : batch_idx * batch_size]])\n",
    "\n",
    "            loss.backward()\n",
    "            optim.step()\n",
    "            lr_sched.step()\n",
    "            \n",
    "            total_loss += loss.item()\n",
    "        \n",
    "        losses.append(total_loss)\n",
    "        \n",
    "        if epoch > burnin_iter and epoch % mcmc_iter == 0:\n",
    "            models.append(deepcopy(model))\n",
    "\n",
    "        pbar.set_description('loss: %.6f' % total_loss)\n",
    "    \n",
    "    return losses, models\n",
    "\n",
    "\n",
    "def pred(models: [nn.Module], x: torch.Tensor) -> (torch.Tensor):\n",
    "    \n",
    "    y_preds = []\n",
    "    \n",
    "    with torch.no_grad():\n",
    "        for model in tqdm(models):\n",
    "            y_pred = model(x)\n",
    "            y_preds.append(y_pred.unsqueeze(0))\n",
    "    \n",
    "    y_mean = torch.cat(y_preds, dim=0)[:,:,0].mean(dim=0)\n",
    "    if y_preds[0].shape[-1] > 1:\n",
    "        ale, epi, uncert = calc_uncert(y_preds, reduction=None)\n",
    "    else:\n",
    "        ale = torch.tensor([0.])\n",
    "        epi = uncert = torch.var(torch.cat(y_preds, dim=0)[:,:,0], dim=0)\n",
    "    \n",
    "    return y_mean, ale, epi, uncert\n",
    "\n",
    "\n",
    "def plot_uncert(x_test: torch.Tensor, y_pred_mean: torch.Tensor, x_train: torch.Tensor, y_train: torch.Tensor, \n",
    "                ale: torch.Tensor, epi: torch.Tensor, uncert: torch.Tensor):\n",
    "    \n",
    "    x_test, y_pred_mean, x_train, y_train = x_test.cpu(), y_pred_mean.cpu(), x_train.cpu(), y_train.cpu()\n",
    "    ale, epi, uncert = torch.sqrt(ale.cpu()), torch.sqrt(epi.cpu()), torch.sqrt(uncert.cpu())\n",
    "    \n",
    "    no_std = 2\n",
    "    \n",
    "    fig, ax = plt.subplots()\n",
    "    ax.plot(x_test, y_pred_mean, color='#D1895C', label='Predictive mean');\n",
    "    ax.scatter(x_train, y_train, color='black', label='Training data')\n",
    "    ax.fill_between(x_test.flatten(), \n",
    "                    gaussian_filter1d(y_pred_mean + no_std * (ale + epi), sigma=5),\n",
    "                    gaussian_filter1d(y_pred_mean - no_std * (ale + epi), sigma=5),\n",
    "                    color='#6C85B6',\n",
    "                    alpha=0.3, label='Aleatoric uncertainty')\n",
    "    ax.fill_between(x_test.flatten(), \n",
    "                    gaussian_filter1d(y_pred_mean + no_std * epi, sigma=5), \n",
    "                    gaussian_filter1d(y_pred_mean - no_std * epi, sigma=5), \n",
    "                    color='#6C85B6',\n",
    "                    alpha=0.5, label='Epistemic uncertainty')\n",
    "    ax.set_xlabel(r'$x$', fontsize=17)\n",
    "    ax.set_ylabel(r'$y$', fontsize=17)\n",
    "    ax.legend()\n",
    "    return fig"
   ]
  },
  {
   "cell_type": "code",
   "execution_count": 6,
   "metadata": {},
   "outputs": [],
   "source": [
    "def init_normal(m):\n",
    "    if type(m) == nn.Linear:\n",
    "        torch.nn.init.normal_(m.weight, mean=0, std=0.1)\n",
    "\n",
    "def init_uniform(m):\n",
    "    if type(m) == nn.Linear:\n",
    "        torch.nn.init.uniform_(m.weight, a=-4, b=4)"
   ]
  },
  {
   "cell_type": "code",
   "execution_count": 7,
   "metadata": {},
   "outputs": [],
   "source": [
    "LR = 1e-4\n",
    "BATCH_SIZE = 32\n",
    "BURNIN_ITER = 2000\n",
    "MCMC_ITER = 100\n",
    "NUM_MODELS = 10\n",
    "NUM_EPOCHS = BURNIN_ITER + MCMC_ITER * NUM_MODELS + 1\n",
    "WEIGHT_DECAY = .1\n",
    "GAMMA = 1."
   ]
  },
  {
   "cell_type": "code",
   "execution_count": 8,
   "metadata": {},
   "outputs": [
    {
     "name": "stderr",
     "output_type": "stream",
     "text": [
      "loss: 23.831179: 100%|██████████| 3001/3001 [00:17<00:00, 174.09it/s]\n"
     ]
    }
   ],
   "source": [
    "model = Model(out_features=1).type(dtype)\n",
    "model.apply(init_uniform)\n",
    "loss_fct = lambda out, y : gaussian_nll(out[:,0], out[:,1], y[:,0], 'mean')\n",
    "_, models = train(model=model, loss_fct=F.mse_loss, x=x, y=y, batch_size=BATCH_SIZE, gamma=GAMMA,\n",
    "                    burnin_iter=BURNIN_ITER, mcmc_iter=MCMC_ITER, lr=LR, num_epochs=NUM_EPOCHS, weight_decay=WEIGHT_DECAY)"
   ]
  },
  {
   "cell_type": "code",
   "execution_count": 9,
   "metadata": {},
   "outputs": [
    {
     "name": "stderr",
     "output_type": "stream",
     "text": [
      "100%|██████████| 10/10 [00:00<00:00, 5103.80it/s]\n"
     ]
    },
    {
     "data": {
      "image/png": "[encoded data removed]",
      "text/plain": [
       "<Figure size 432x288 with 1 Axes>"
      ]
     },
     "metadata": {
      "needs_background": "light"
     },
     "output_type": "display_data"
    }
   ],
   "source": [
    "x_test = torch.linspace(-1.5, 1.5, 500).reshape(-1, 1).type(dtype)\n",
    "\n",
    "y_pred_mean, ale, epi, uncert = pred(models=models, x=x_test)\n",
    "fig = plot_uncert(x_test=x_test, y_pred_mean=y_pred_mean, x_train=x, y_train=y, \n",
    "            ale=ale, epi=epi, uncert=uncert)"
   ]
  },
  {
   "cell_type": "code",
   "execution_count": 18,
   "metadata": {},
   "outputs": [
    {
     "name": "stderr",
     "output_type": "stream",
     "text": [
      "loss: 14.225636: 100%|██████████| 3001/3001 [00:15<00:00, 189.28it/s]\n"
     ]
    }
   ],
   "source": [
    "model_lr_std = Model(out_features=1).type(dtype)\n",
    "model_lr_std.apply(init_uniform)\n",
    "loss_fct = lambda out, y : gaussian_nll(out[:,0], out[:,1], y[:,0], 'mean')\n",
    "_, models_lr_std = train(model=model_lr_std, loss_fct=F.mse_loss, x=x, y=y, batch_size=BATCH_SIZE, gamma=GAMMA, glr='std',\n",
    "                        burnin_iter=BURNIN_ITER, mcmc_iter=MCMC_ITER, lr=LR, num_epochs=NUM_EPOCHS, weight_decay=WEIGHT_DECAY)"
   ]
  },
  {
   "cell_type": "code",
   "execution_count": 19,
   "metadata": {},
   "outputs": [
    {
     "name": "stderr",
     "output_type": "stream",
     "text": [
      "100%|██████████| 10/10 [00:00<00:00, 4914.24it/s]\n"
     ]
    },
    {
     "data": {
      "image/png": "[encoded data removed]",
      "text/plain": [
       "<Figure size 432x288 with 1 Axes>"
      ]
     },
     "metadata": {
      "needs_background": "light"
     },
     "output_type": "display_data"
    }
   ],
   "source": [
    "y_pred_mean_lr_std, ale_lr_std, epi_lr_std, uncert_lr_std = pred(models=models_lr_std, x=x_test)\n",
    "fig = plot_uncert(x_test=x_test, y_pred_mean=y_pred_mean_lr_std, x_train=x, y_train=y, \n",
    "            ale=ale_lr_std, epi=epi_lr_std, uncert=uncert_lr_std)"
   ]
  },
  {
   "cell_type": "code",
   "execution_count": null,
   "metadata": {},
   "outputs": [],
   "source": []
  }
 ],
 "metadata": {
  "kernelspec": {
   "display_name": "Python 3",
   "language": "python",
   "name": "python3"
  },
  "language_info": {
   "codemirror_mode": {
    "name": "ipython",
    "version": 3
   },
   "file_extension": ".py",
   "mimetype": "text/x-python",
   "name": "python",
   "nbconvert_exporter": "python",
   "pygments_lexer": "ipython3",
   "version": "3.7.3"
  }
 },
 "nbformat": 4,
 "nbformat_minor": 4
}
