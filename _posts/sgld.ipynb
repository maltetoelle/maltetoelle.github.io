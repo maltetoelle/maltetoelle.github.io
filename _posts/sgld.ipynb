{
 "cells": [
  {
   "cell_type": "markdown",
   "metadata": {},
   "source": [
    "# Stochastic Gradient Descent Langevin Dynamics (SGLD)\n",
    "\n",
    "In the domain of learning from data $\\mathcal{D}$ we generally distinguish between the frequentist and the Bayesian approach. Whilst the frequentist approach assumes one true solution for the model parameters $\\boldsymbol{\\theta}$ for the problem at hand, being Bayesian takes uncertainties into account. With the Bayesian approach we can express our knowledge about the model parameters prior of seeing any data. We can also express zero prior knowledge by using a uniform distribution assigning each parameter value the same probability. The more data the model sees, the more certain it is in its parameters, converging to the frequentist estimate when much data is observed.\n",
    "\n",
    "In the frequentist approach, also called Maximum Likelihood Estimation (MLE), each individual data point of $\\mathcal{D}=\\{\\mathbf{x}_i,y_i\\}$ with $N$ data points is modeled with a Gaussian distribution:\n",
    "\n",
    "$p(\\mathbf{y}_i|\\mathbf{x}_i, \\boldsymbol{\\theta}) = \\frac{1}{\\sigma\\sqrt{2\\pi}}\\exp \\left\\{-\\frac{1}{2\\sigma^2}(y_i -\\boldsymbol{\\theta}^T\\mathbf{x}_i)^2 \\right\\}$ ,\n",
    "\n",
    "where $\\boldsymbol{\\theta}$ denotes the model parameters. We are assuming a multidimensional output, but only a one-dimensional output for simplicity, though it actually can be of arbitrary dimension. Under the assumption of independent and identically distributed (i.i.d.) data, the probability for all data points factorizes (called the likelihood function):\n",
    "\n",
    "$p(\\mathbf{y}|\\mathbf{X},\\boldsymbol{\\theta}) = \\prod_{i=1}^{N} p(\\mathbf{y}_i|\\mathbf{x}_i, \\boldsymbol{\\theta})$ ,\n",
    "\n",
    "where $\\mathbf{X}$ denotes the matrix of all data points with each data point $\\mathbf{x}_i$ as a row vector."
   ]
  },
  {
   "cell_type": "code",
   "execution_count": null,
   "metadata": {},
   "outputs": [],
   "source": []
  }
 ],
 "metadata": {
  "kernelspec": {
   "display_name": "Python 3",
   "language": "python",
   "name": "python3"
  },
  "language_info": {
   "codemirror_mode": {
    "name": "ipython",
    "version": 3
   },
   "file_extension": ".py",
   "mimetype": "text/x-python",
   "name": "python",
   "nbconvert_exporter": "python",
   "pygments_lexer": "ipython3",
   "version": "3.8.6"
  }
 },
 "nbformat": 4,
 "nbformat_minor": 4
}
